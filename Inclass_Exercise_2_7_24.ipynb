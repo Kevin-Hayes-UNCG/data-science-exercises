{
 "cells": [
  {
   "cell_type": "markdown",
   "id": "0521c43b",
   "metadata": {},
   "source": [
    "1.\tImport NumPy in Jupyter notebook.\n",
    "a.\tGenerate a 1D NumPy array of 10 random integers between 1 and 100.\n",
    "b.\tAccess and print the first and last elements of the array.\n",
    "c.\tGenerate a 2D NumPy array of shape (3, 3) with random floating-point numbers.\n",
    "\n",
    "2.\tUse the 2D array generated in Exercise 1 c. Practice slicing arrays to access sub-arrays.\n",
    "a.\tPrint the first row of the 2D array.\n",
    "b.\tPrint the last column of the 2D array.\n",
    "c.\tCreate and print a sub-array consisting of the first two rows and first two columns.\n",
    "\n",
    "3.\tGenerate two 1D NumPy arrays of 5 random integers each. \n",
    "a.\tAdd the two arrays and print the result.\n",
    "b.\tMultiply the two arrays (element-wise) and print the result.\n",
    "c.\tCalculate the square of every element in the first array and print it.\n",
    "\n",
    "4.\tGenerate two 2D NumPy arrays, A of shape (2, 3) and B of shape (3, 2), with random integers.\n",
    "a.\tPerform matrix multiplication between A and B (using np.dot() or the @ operator) and print the result.\n",
    "b.\tCan A and B perform element-wise multiplication using *, why?\n",
    "\n"
   ]
  },
  {
   "cell_type": "markdown",
   "id": "a066e7c4",
   "metadata": {},
   "source": [
    "# Import NumPy in Jupyter notebook."
   ]
  },
  {
   "cell_type": "code",
   "execution_count": 1,
   "id": "06772156",
   "metadata": {},
   "outputs": [],
   "source": [
    "import numpy as np"
   ]
  },
  {
   "cell_type": "markdown",
   "id": "c7bc75be",
   "metadata": {},
   "source": [
    "## a.\tGenerate a 1D NumPy array of 10 random integers between 1 and 100."
   ]
  },
  {
   "cell_type": "code",
   "execution_count": 3,
   "id": "51b05f78",
   "metadata": {},
   "outputs": [
    {
     "data": {
      "text/plain": [
       "array([77, 18, 61, 55, 47,  9, 18, 74, 96, 53])"
      ]
     },
     "execution_count": 3,
     "metadata": {},
     "output_type": "execute_result"
    }
   ],
   "source": [
    "import random\n",
    "\n",
    "one_d_array = np.array([random.randint(1,100) for i in range(10)])\n",
    "\n",
    "one_d_array"
   ]
  },
  {
   "cell_type": "markdown",
   "id": "28dd9edb",
   "metadata": {},
   "source": [
    "## b.\tAccess and print the first and last elements of the array."
   ]
  },
  {
   "cell_type": "code",
   "execution_count": 4,
   "id": "90636aa4",
   "metadata": {},
   "outputs": [
    {
     "name": "stdout",
     "output_type": "stream",
     "text": [
      "77\n",
      "53\n"
     ]
    }
   ],
   "source": [
    "print(one_d_array[0])\n",
    "\n",
    "print(one_d_array[-1])"
   ]
  },
  {
   "cell_type": "markdown",
   "id": "8b6d67f5",
   "metadata": {},
   "source": [
    "## c.\tGenerate a 2D NumPy array of shape (3, 3) with random floating-point numbers.\n"
   ]
  },
  {
   "cell_type": "code",
   "execution_count": 9,
   "id": "10fc6d21",
   "metadata": {},
   "outputs": [
    {
     "data": {
      "text/plain": [
       "array([[0.81851376, 0.57426448, 0.03939466],\n",
       "       [0.84620835, 0.80366096, 0.49845867],\n",
       "       [0.00913619, 0.90703057, 0.41316475]])"
      ]
     },
     "execution_count": 9,
     "metadata": {},
     "output_type": "execute_result"
    }
   ],
   "source": [
    "two_d_array = np.array([[random.random() for i in range(3)] for j in range(3)])\n",
    "\n",
    "two_d_array"
   ]
  },
  {
   "cell_type": "markdown",
   "id": "82cdb1cc",
   "metadata": {},
   "source": [
    "# 2.\tUse the 2D array generated in Exercise 1 c. Practice slicing arrays to access sub-arrays."
   ]
  },
  {
   "cell_type": "markdown",
   "id": "796c7f80",
   "metadata": {},
   "source": [
    "## a.\tPrint the first row of the 2D array."
   ]
  },
  {
   "cell_type": "code",
   "execution_count": 10,
   "id": "ee1c75a3",
   "metadata": {},
   "outputs": [
    {
     "data": {
      "text/plain": [
       "array([0.81851376, 0.57426448, 0.03939466])"
      ]
     },
     "execution_count": 10,
     "metadata": {},
     "output_type": "execute_result"
    }
   ],
   "source": [
    "print(two_d_array[0])"
   ]
  },
  {
   "cell_type": "markdown",
   "id": "5a002206",
   "metadata": {},
   "source": [
    "## b.\tPrint the last column of the 2D array.\n"
   ]
  },
  {
   "cell_type": "code",
   "execution_count": 12,
   "id": "a2139487",
   "metadata": {},
   "outputs": [
    {
     "name": "stdout",
     "output_type": "stream",
     "text": [
      "[0.03939466 0.49845867 0.41316475]\n"
     ]
    }
   ],
   "source": [
    "print(two_d_array[:,-1])"
   ]
  },
  {
   "cell_type": "markdown",
   "id": "a4d4baa0",
   "metadata": {},
   "source": [
    "## c.\tCreate and print a sub-array consisting of the first two rows and first two columns.\n"
   ]
  },
  {
   "cell_type": "code",
   "execution_count": 13,
   "id": "d99540ed",
   "metadata": {},
   "outputs": [
    {
     "name": "stdout",
     "output_type": "stream",
     "text": [
      "[[0.81851376 0.57426448]\n",
      " [0.84620835 0.80366096]]\n"
     ]
    }
   ],
   "source": [
    "print(two_d_array[0:2,0:2])"
   ]
  },
  {
   "cell_type": "markdown",
   "id": "0c375e6e",
   "metadata": {},
   "source": [
    "# 3.\tGenerate two 1D NumPy arrays of 5 random integers each. "
   ]
  },
  {
   "cell_type": "code",
   "execution_count": 15,
   "id": "4f69b24c",
   "metadata": {},
   "outputs": [
    {
     "name": "stdout",
     "output_type": "stream",
     "text": [
      "[ 2 97 95 51 27]\n",
      "[95 46 14 94 93]\n"
     ]
    }
   ],
   "source": [
    "arr1 = np.array([random.randint(0, 100) for i in range(5)])\n",
    "arr2 = np.array([random.randint(0, 100) for i in range(5)])\n",
    "\n",
    "print(arr1)\n",
    "print(arr2)"
   ]
  },
  {
   "cell_type": "markdown",
   "id": "6d86f21f",
   "metadata": {},
   "source": [
    "## a.\tAdd the two arrays and print the result.\n"
   ]
  },
  {
   "cell_type": "code",
   "execution_count": 16,
   "id": "34edda33",
   "metadata": {},
   "outputs": [
    {
     "name": "stdout",
     "output_type": "stream",
     "text": [
      "[ 97 143 109 145 120]\n"
     ]
    }
   ],
   "source": [
    "print(arr1 + arr2)"
   ]
  },
  {
   "cell_type": "markdown",
   "id": "fffbf330",
   "metadata": {},
   "source": [
    "## b.\tMultiply the two arrays (element-wise) and print the result."
   ]
  },
  {
   "cell_type": "code",
   "execution_count": 17,
   "id": "23166a64",
   "metadata": {},
   "outputs": [
    {
     "name": "stdout",
     "output_type": "stream",
     "text": [
      "[ 190 4462 1330 4794 2511]\n"
     ]
    }
   ],
   "source": [
    "print(arr1 * arr2)"
   ]
  },
  {
   "cell_type": "markdown",
   "id": "06000499",
   "metadata": {},
   "source": [
    "## c.\tCalculate the square of every element in the first array and print it.\n"
   ]
  },
  {
   "cell_type": "code",
   "execution_count": 18,
   "id": "0ec688ad",
   "metadata": {},
   "outputs": [
    {
     "name": "stdout",
     "output_type": "stream",
     "text": [
      "[   4 9409 9025 2601  729]\n"
     ]
    }
   ],
   "source": [
    "print(arr1 ** 2)"
   ]
  },
  {
   "cell_type": "markdown",
   "id": "633f1dfa",
   "metadata": {},
   "source": [
    "# 4.\tGenerate two 2D NumPy arrays, A of shape (2, 3) and B of shape (3, 2), with random integers"
   ]
  },
  {
   "cell_type": "code",
   "execution_count": 20,
   "id": "a4c279d8",
   "metadata": {},
   "outputs": [
    {
     "name": "stdout",
     "output_type": "stream",
     "text": [
      "[[90 79 82]\n",
      " [41 85 66]]\n",
      "[[12 61]\n",
      " [12 81]\n",
      " [18 75]]\n"
     ]
    }
   ],
   "source": [
    "A = np.array([[random.randint(1,100) for i in range(3)] for i in range(2)])\n",
    "print(A)\n",
    "B = np.array([[random.randint(1,100) for i in range(2)] for i in range(3)])\n",
    "print(B)\n",
    "\n"
   ]
  },
  {
   "cell_type": "markdown",
   "id": "0b4af4b3",
   "metadata": {},
   "source": [
    "## a.\tPerform matrix multiplication between A and B (using np.dot() or the @ operator) and print the result.\n"
   ]
  },
  {
   "cell_type": "code",
   "execution_count": 22,
   "id": "b316a3a0",
   "metadata": {},
   "outputs": [
    {
     "name": "stdout",
     "output_type": "stream",
     "text": [
      "[[ 3504 18039]\n",
      " [ 2700 14336]]\n"
     ]
    }
   ],
   "source": [
    "print(A @ B)"
   ]
  },
  {
   "cell_type": "markdown",
   "id": "9fd6dd0f",
   "metadata": {},
   "source": [
    "## b.\tCan A and B perform element-wise multiplication using *, why?\n",
    "\n",
    "They can not. This is because they have different shapes (As shown by the ValueError in the cell below).\n"
   ]
  },
  {
   "cell_type": "code",
   "execution_count": 24,
   "id": "63df8b6c",
   "metadata": {},
   "outputs": [
    {
     "ename": "ValueError",
     "evalue": "operands could not be broadcast together with shapes (2,3) (3,2) ",
     "output_type": "error",
     "traceback": [
      "\u001b[1;31m---------------------------------------------------------------------------\u001b[0m",
      "\u001b[1;31mValueError\u001b[0m                                Traceback (most recent call last)",
      "Cell \u001b[1;32mIn[24], line 1\u001b[0m\n\u001b[1;32m----> 1\u001b[0m \u001b[38;5;28mprint\u001b[39m(A \u001b[38;5;241m*\u001b[39m B)\n",
      "\u001b[1;31mValueError\u001b[0m: operands could not be broadcast together with shapes (2,3) (3,2) "
     ]
    }
   ],
   "source": [
    "print(A * B)"
   ]
  },
  {
   "cell_type": "code",
   "execution_count": null,
   "id": "3d0aff6b",
   "metadata": {},
   "outputs": [],
   "source": []
  }
 ],
 "metadata": {
  "kernelspec": {
   "display_name": "Python 3 (ipykernel)",
   "language": "python",
   "name": "python3"
  },
  "language_info": {
   "codemirror_mode": {
    "name": "ipython",
    "version": 3
   },
   "file_extension": ".py",
   "mimetype": "text/x-python",
   "name": "python",
   "nbconvert_exporter": "python",
   "pygments_lexer": "ipython3",
   "version": "3.11.5"
  }
 },
 "nbformat": 4,
 "nbformat_minor": 5
}
