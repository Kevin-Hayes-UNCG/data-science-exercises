{
 "cells": [
  {
   "cell_type": "code",
   "execution_count": 6,
   "id": "903309e6",
   "metadata": {},
   "outputs": [
    {
     "name": "stdout",
     "output_type": "stream",
     "text": [
      "Fluffy is a Cat\n"
     ]
    }
   ],
   "source": [
    "from pets import Pet\n",
    "import pets\n",
    "\n",
    "fluffy = Pet(\"Fluffy\", \"Cat\")\n",
    "\n",
    "fluffy.display()"
   ]
  },
  {
   "cell_type": "code",
   "execution_count": 7,
   "id": "9a4d39c4",
   "metadata": {},
   "outputs": [
    {
     "data": {
      "text/plain": [
       "<module 'pets' from 'C:\\\\Users\\\\Nivek\\\\CSC_605_Project\\\\In_Class_Work\\\\pets.py'>"
      ]
     },
     "execution_count": 7,
     "metadata": {},
     "output_type": "execute_result"
    }
   ],
   "source": [
    "import importlib as im\n",
    "\n",
    "im.reload(pets)\n"
   ]
  },
  {
   "cell_type": "code",
   "execution_count": 9,
   "id": "0236f314",
   "metadata": {},
   "outputs": [
    {
     "name": "stdout",
     "output_type": "stream",
     "text": [
      "Fluffy is a Cat that is 3 years old\n"
     ]
    }
   ],
   "source": [
    "\n",
    "\n",
    "fluffy = pets.Pet(\"Fluffy\", \"Cat\", \"3\")\n",
    "\n",
    "fluffy.display()"
   ]
  },
  {
   "cell_type": "code",
   "execution_count": null,
   "id": "f3ac38d8",
   "metadata": {},
   "outputs": [],
   "source": []
  }
 ],
 "metadata": {
  "kernelspec": {
   "display_name": "Python 3 (ipykernel)",
   "language": "python",
   "name": "python3"
  },
  "language_info": {
   "codemirror_mode": {
    "name": "ipython",
    "version": 3
   },
   "file_extension": ".py",
   "mimetype": "text/x-python",
   "name": "python",
   "nbconvert_exporter": "python",
   "pygments_lexer": "ipython3",
   "version": "3.11.5"
  }
 },
 "nbformat": 4,
 "nbformat_minor": 5
}
